{
 "cells": [
  {
   "cell_type": "markdown",
   "id": "b2ad10a6-3276-41a6-94d4-05364835497c",
   "metadata": {},
   "source": [
    "### visulaizing the  corine images"
   ]
  },
  {
   "cell_type": "markdown",
   "id": "093f9a31",
   "metadata": {},
   "source": [
    "### The corine land cover classes"
   ]
  },
  {
   "cell_type": "code",
   "execution_count": 1,
   "id": "760bd90b-70a6-4959-991c-7faa9d7b1790",
   "metadata": {},
   "outputs": [],
   "source": [
    "clcc ={111:'cont. urban fabric',\n",
    " 112:'disc urban fabric',\n",
    " 121:'industrial or commercial units',\n",
    " 122:'road and rail',\n",
    " 123:'port areas',\n",
    " 124:'airports',\n",
    " 131:'mineral extraction sites',\n",
    " 132:'dump sites',\n",
    " 133:'construction sites',\n",
    " 141:'green urban areas',\n",
    " 142:'sport and leasure',\n",
    " 211:'non irregated arable land',\n",
    " 212:'permenant irregated land',\n",
    " 213:'rice fields',\n",
    " 221:'vine yards',\n",
    " 223:'olive groves',\n",
    " 231:'pastures',\n",
    " 241:'annual with perm. crops',\n",
    " 242:'complex cultivation patters',\n",
    " 243:'land principally occupied by agriculture',\n",
    " 244:'agro forest areas',\n",
    " 311:'broad leaved forest',\n",
    " 312:'conferous forest',\n",
    " 313:'mixed forest',\n",
    " 321:'natural grassland',\n",
    " 322:'moors and heathland',\n",
    " 323: 'scierohllous vegitation',\n",
    " 324:'transitional woodland shrub',\n",
    " 331: 'beaches dunes and sand plains',\n",
    " 332:'bare rock',\n",
    " 333:'sparsely vegetated areas',\n",
    " 334:'burnt areas',\n",
    " 335:'glaciers and perpetual snow',\n",
    " 411:'inland marshes',\n",
    " 412:'peat bogs',\n",
    " 421:'salt marshes',\n",
    " 422:'salines',\n",
    " 423:'intertidal flats',\n",
    " 511:'water courses',\n",
    " 512:'water bodies',\n",
    " 521:'costal lagoons',\n",
    " 522:'estuaries',\n",
    " 523:'sea and ocean'}\n",
    " \n",
    " \n",
    "\n",
    "\n",
    "\n",
    "\n",
    "\n",
    "\n",
    "\n",
    "\n",
    "\n",
    "\n",
    "\n",
    "\n",
    "\n",
    "\n"
   ]
  },
  {
   "cell_type": "code",
   "execution_count": 2,
   "id": "06e10dd5-ddb6-483b-b053-7d0bd6079b7c",
   "metadata": {},
   "outputs": [],
   "source": [
    "landcovers = [key for idx, key in enumerate(clcc) ]"
   ]
  },
  {
   "cell_type": "code",
   "execution_count": 3,
   "id": "64adb4e5-338e-4639-a3de-15bf16188e47",
   "metadata": {},
   "outputs": [
    {
     "data": {
      "text/plain": [
       "[111,\n",
       " 112,\n",
       " 121,\n",
       " 122,\n",
       " 123,\n",
       " 124,\n",
       " 131,\n",
       " 132,\n",
       " 133,\n",
       " 141,\n",
       " 142,\n",
       " 211,\n",
       " 212,\n",
       " 213,\n",
       " 221,\n",
       " 223,\n",
       " 231,\n",
       " 241,\n",
       " 242,\n",
       " 243,\n",
       " 244,\n",
       " 311,\n",
       " 312,\n",
       " 313,\n",
       " 321,\n",
       " 322,\n",
       " 323,\n",
       " 324,\n",
       " 331,\n",
       " 332,\n",
       " 333,\n",
       " 334,\n",
       " 335,\n",
       " 411,\n",
       " 412,\n",
       " 421,\n",
       " 422,\n",
       " 423,\n",
       " 511,\n",
       " 512,\n",
       " 521,\n",
       " 522,\n",
       " 523]"
      ]
     },
     "execution_count": 3,
     "metadata": {},
     "output_type": "execute_result"
    }
   ],
   "source": [
    "landcovers"
   ]
  },
  {
   "cell_type": "markdown",
   "id": "78b43d91",
   "metadata": {},
   "source": [
    "### Algorithm to change a segmentation mask into a feature vector \n",
    "#### where each element represnts the number of pixels of each class in each segmentation mask\n",
    "#### The first part is a dataloader for the segmentation mask and the labels of wild and non wild"
   ]
  },
  {
   "cell_type": "code",
   "execution_count": 5,
   "id": "92ee2631-df09-4829-93de-0e7e6490dc04",
   "metadata": {},
   "outputs": [
    {
     "name": "stderr",
     "output_type": "stream",
     "text": [
      "100%|████████████████████████████████████| 23919/23919 [00:46<00:00, 512.34it/s]\n"
     ]
    }
   ],
   "source": [
    "#final code\n",
    "# to do list is to build a transparent model to train on the classes\n",
    "import glob\n",
    "import os\n",
    "import torch\n",
    "from torch.utils.data import Dataset, DataLoader\n",
    "import pandas as pd\n",
    "from PIL import Image\n",
    "import tifffile as tiff\n",
    "import time\n",
    "from tqdm import tqdm\n",
    "\n",
    "\n",
    "class CustomDataset(Dataset):\n",
    "    def __init__(self, csv_file, root):\n",
    "        self.data = pd.read_csv(csv_file)\n",
    "        \n",
    "        self.image_paths = sorted(glob.glob(os.path.join(root)+ '/*.*'))\n",
    "        #self.image_paths = (self.data['file'])\n",
    "        #print(len(self.image_paths))\n",
    "        #self.image_paths = sorted(glob.glob(os.path.join('/home/ahmedemam576/working_folder/data/anthroprotect/tiles/lcs', self.image_paths)))\n",
    "        self.labels = self.data['label']\n",
    "\n",
    "    def __len__(self):\n",
    "        return len(self.image_paths)\n",
    "\n",
    "    def __getitem__(self, idx):\n",
    "        \n",
    "        image_path = self.image_paths[idx]\n",
    "        \n",
    "        label = self.labels[idx]\n",
    "\n",
    "        \n",
    "        # we need to open the image as a tiff file and take the first channel representing the corine channel\n",
    "        image = tiff.imread(image_path)\n",
    "        image = image.astype('int')\n",
    "        #print(image.shape)\n",
    "        image = image[:,:,0]\n",
    "\n",
    "        return image, label\n",
    "\n",
    "# Path to the CSV file\n",
    "csv_file = 'infos.csv'\n",
    "\n",
    "# Create an instance of the custom dataset\n",
    "dataset = CustomDataset(csv_file,root = '/home/ahmedemam576/working_folder/data/anthroprotect/tiles/lcs')\n",
    "\n",
    "# Create a data loader to iterate over the dataset\n",
    "batch_size = 1\n",
    "data_loader = DataLoader(dataset, batch_size=batch_size, shuffle=True)\n",
    "# code the image to segmentation mask function:\n",
    "# to extract the corine channel from the path\n",
    "#print(len(data_loader))\n",
    "#print(images[0])\n",
    "# Iterate over the data loader\n",
    "array = landcovers\n",
    "feature_array = []\n",
    "target_labels = []\n",
    "for images, labels in tqdm(data_loader):\n",
    "    # Convert images to segmentation mask here using your own logic\n",
    "    #print('-------loop is working-------')\n",
    "    segmentation_mask = images\n",
    "    #print(len(images))\n",
    "    # Get the unique land cover classes present in the segmentation mask\n",
    "    land_cover_classes = torch.unique(segmentation_mask)\n",
    "\n",
    "    # Compute the number of land cover classes and the maximum number of classes expected\n",
    "    num_classes = len(land_cover_classes)\n",
    "    max_num_classes = 44  # Set the maximum number of land cover classes expected in the dataset\n",
    "    \n",
    "    \n",
    "    # create a dictionary to have the key the land cover class code and as the ni. of pixels of this specific land cover class as data\n",
    "    class_counts = {}\n",
    "    \n",
    "    \n",
    "    \n",
    "    # Generate the vector with the count of pixels for each land cover class\n",
    "    \n",
    "    for class_keys in land_cover_classes:\n",
    "        class_counts = {key: 0 for key in array}\n",
    "\n",
    "        if class_keys in landcovers: # to make sure that we only have the corine land cover classess\n",
    "            \n",
    "\n",
    "        \n",
    "            class_rep = torch.sum(segmentation_mask == class_keys)\n",
    "            #class_keys = class_keys.item\n",
    "            #class_rep = class_rep.item\n",
    "\n",
    "            class_counts[class_keys.item()] = class_rep.item()\n",
    "            #print(class_counts)\n",
    "            #time.sleep(1)\n",
    "            \n",
    "    #print('the label is -->',labels.item())\n",
    "    # Trim the class_counts tensor to the actual number of classes found\n",
    "    #class_counts = class_counts[:num_classes]\n",
    "    \n",
    "    # Print the class counts vector\n",
    "    '''print(\"Class Counts:\")\n",
    "    print(class_counts.values())\n",
    "   \n",
    "    \n",
    "    print('feature_array len-->',len(feature_array),'target_labels len-->',len(target_labels))\n",
    "    print('feature_array -->',(feature_array),'target_labels -->',(target_labels))\n",
    "    #print(labels)\n",
    "    #time.sleep(0)'''\n",
    "    \n",
    "    \n",
    "    feature_array.append(list(class_counts.values()))\n",
    "    target_labels.append(labels.item())\n"
   ]
  },
  {
   "cell_type": "markdown",
   "id": "07ec1faa",
   "metadata": {},
   "source": [
    "### Dataset and dataloader for the scene classification dataset (Anthroprotect dataset)"
   ]
  },
  {
   "cell_type": "code",
   "execution_count": 7,
   "id": "265d734a",
   "metadata": {},
   "outputs": [],
   "source": [
    "import os\n",
    "import pandas as pd\n",
    "from PIL import Image\n",
    "from torch.utils.data import Dataset\n",
    "from torchvision import transforms\n",
    "import tifffile as tiff\n",
    "import torch\n",
    "from torch.utils.data import Dataset, DataLoader, random_split\n",
    "from PIL import Image\n",
    "import torchvision\n",
    "import torchvision.transforms as transforms\n",
    "\n",
    "class CustomDataset(Dataset):\n",
    "    def __init__(self, csv_file, image_folder, transform=None):\n",
    "        self.data = pd.read_csv(csv_file)\n",
    "        self.images = self.data['file']\n",
    "        self.labels = self.data['label']\n",
    "        self.image_folder = image_folder\n",
    "        self.transform = transform\n",
    "\n",
    "    def __len__(self):\n",
    "        return len(self.data)\n",
    "\n",
    "    def __getitem__(self, index):\n",
    "        image_name = self.images[index]  # Assuming the image names are in the first column of the CSV file\n",
    "        image_label = self.labels[index]\n",
    "        # Construct the complete image path by joining the folder path and image name\n",
    "        image_path = os.path.join(self.image_folder, image_name)\n",
    "\n",
    "        # Open the image using PIL\n",
    "        image = tiff.imread(image_path)\n",
    "        \n",
    "        #choos ethe number of channels you need\n",
    "        image= image[:,:,:3]\n",
    "        #####\n",
    "        \n",
    "        image = image.astype('uint8')\n",
    "        #image = image.astype('int')\n",
    "        # Apply transformations, if provided\n",
    "        if self.transform:\n",
    "            #pil_image = Image.fromarray(image)\n",
    "            image = self.transform(image)\n",
    "            \n",
    "        \n",
    "\n",
    "            \n",
    "\n",
    "        return image, image_label\n",
    "    \n",
    "    \n",
    "csv_file =  'infos.csv'\n",
    "image_folder = '~/working_folder/data/anthroprotect/tiles/s2'\n",
    "transform = transforms.ToTensor()  # Example transformation, you can add more\n",
    "\n",
    "dataset = CustomDataset(csv_file, image_folder, transform=transform) # Replace with your actual dataset instantiation\n",
    "\n",
    "# Define the ratio of the dataset to be used for testing\n",
    "test_ratio = 0.2\n",
    "\n",
    "# Calculate the number of samples for testing\n",
    "test_size = int(test_ratio * len(dataset))\n",
    "\n",
    "# Calculate the number of samples for training\n",
    "train_size = len(dataset) - test_size\n",
    "\n",
    "# Split the dataset into training and testing datasets\n",
    "train_dataset, test_dataset = random_split(dataset, [train_size, test_size])\n",
    "\n",
    "# Create DataLoader instances for training and testing datasets\n",
    "train_loader = DataLoader(train_dataset, batch_size=32, shuffle=True)\n",
    "test_loader = DataLoader(test_dataset, batch_size=32, shuffle=False)\n",
    "\n",
    "\n",
    "# Example usage\n",
    "\n",
    "\n",
    "\n"
   ]
  },
  {
   "cell_type": "code",
   "execution_count": 8,
   "id": "349b39eb",
   "metadata": {},
   "outputs": [],
   "source": [
    "transform = transforms.Compose([\n",
    "    transforms.ToPILImage(),\n",
    "    transforms.Resize((256, 256)),  # Resize the image to (224, 224)\n",
    "    transforms.ToTensor()  # Convert the PIL Image to tensor\n",
    "])\n",
    "scene_dataset= CustomDataset(csv_file, '/home/ahmedemam576/working_folder/data/anthroprotect/tiles/s2',transform)\n"
   ]
  },
  {
   "cell_type": "code",
   "execution_count": 9,
   "id": "edf52b1f",
   "metadata": {},
   "outputs": [
    {
     "data": {
      "text/plain": [
       "23919"
      ]
     },
     "execution_count": 9,
     "metadata": {},
     "output_type": "execute_result"
    }
   ],
   "source": [
    "batch_size = 128  # Define the batch size\n",
    "data_loader = DataLoader(scene_dataset, batch_size=batch_size, shuffle=True)\n",
    "\n",
    "len(dataset)"
   ]
  },
  {
   "cell_type": "markdown",
   "id": "4b2a08b7",
   "metadata": {},
   "source": [
    "### a classifier for scence classification, with a method to extract a the embeddings from the bottelneck"
   ]
  },
  {
   "cell_type": "code",
   "execution_count": 11,
   "id": "1356f4a3",
   "metadata": {},
   "outputs": [],
   "source": [
    "import torch\n",
    "import torch.nn as nn\n",
    "\n",
    "\n",
    "import torch\n",
    "import torch.nn as nn\n",
    "\n",
    "\n",
    "\n",
    "class DeepClassifier(nn.Module):\n",
    "    def __init__(self, num_classes):\n",
    "        super(DeepClassifier, self).__init__()\n",
    "        \n",
    "        self.features = nn.Sequential(\n",
    "            nn.Conv2d(3, 32, kernel_size=3, stride=1, padding=1),\n",
    "            nn.ReLU(),\n",
    "            nn.MaxPool2d(kernel_size=2, stride=2),\n",
    "            nn.Conv2d(32, 64, kernel_size=3, stride=1, padding=1),\n",
    "            nn.ReLU(),\n",
    "            nn.MaxPool2d(kernel_size=2, stride=2),\n",
    "            nn.Conv2d(64, 128, kernel_size=3, stride=1, padding=1),\n",
    "            nn.ReLU(),\n",
    "            nn.MaxPool2d(kernel_size=2, stride=2),\n",
    "            nn.Conv2d(128, 256, kernel_size=3, stride=1, padding=1),\n",
    "            nn.ReLU(),\n",
    "            nn.MaxPool2d(kernel_size=2, stride=2),\n",
    "        )\n",
    "        \n",
    "        self.embedding = nn.Sequential(\n",
    "            nn.Linear(256 * 16 * 16, 512),\n",
    "            nn.ReLU(),\n",
    "            nn.Linear(512, 10),\n",
    "            nn.ReLU()\n",
    "        )\n",
    "        self.classifier = nn.Sequential(\n",
    "            nn.Linear(10,1),\n",
    "            nn.Sigmoid())\n",
    "    \n",
    "    def forward(self, x):\n",
    "        features = self.features(x)\n",
    "        flattened = torch.flatten(features, start_dim=1)\n",
    "        embedding = self.embedding(flattened)\n",
    "        output = self.classifier(embedding)\n",
    "        \n",
    "        return output, embedding\n",
    "\n",
    "# Example usage\n",
    "input_channels = 3\n",
    "image_size = 256\n",
    "num_classes = 1\n",
    "model = DeepClassifier(num_classes)\n",
    "\n",
    "model = model.to('cuda')\n",
    "\n",
    "# Training the model\n",
    "criterion = nn.MSELoss()\n",
    "optimizer = torch.optim.Adam(model.parameters(), lr=0.001)\n"
   ]
  },
  {
   "cell_type": "markdown",
   "id": "22652b22",
   "metadata": {},
   "source": [
    "### Training of the scene classifier"
   ]
  },
  {
   "cell_type": "code",
   "execution_count": 13,
   "id": "0d964b0f",
   "metadata": {},
   "outputs": [
    {
     "name": "stderr",
     "output_type": "stream",
     "text": [
      "Training Progress:   5%|█▎                       | 1/20 [01:00<19:03, 60.19s/it]"
     ]
    },
    {
     "name": "stdout",
     "output_type": "stream",
     "text": [
      "Training MSE: 0.0792\n"
     ]
    },
    {
     "name": "stderr",
     "output_type": "stream",
     "text": [
      "\r",
      "Training Progress:  10%|██▌                      | 2/20 [02:01<18:11, 60.63s/it]"
     ]
    },
    {
     "name": "stdout",
     "output_type": "stream",
     "text": [
      "Training MSE: 0.0658\n"
     ]
    },
    {
     "name": "stderr",
     "output_type": "stream",
     "text": [
      "\r",
      "Training Progress:  15%|███▊                     | 3/20 [03:00<17:04, 60.24s/it]"
     ]
    },
    {
     "name": "stdout",
     "output_type": "stream",
     "text": [
      "Training MSE: 0.0487\n"
     ]
    },
    {
     "name": "stderr",
     "output_type": "stream",
     "text": [
      "\r",
      "Training Progress:  20%|█████                    | 4/20 [04:01<16:05, 60.33s/it]"
     ]
    },
    {
     "name": "stdout",
     "output_type": "stream",
     "text": [
      "Training MSE: 0.0314\n"
     ]
    },
    {
     "name": "stderr",
     "output_type": "stream",
     "text": [
      "\r",
      "Training Progress:  25%|██████▎                  | 5/20 [05:01<15:05, 60.35s/it]"
     ]
    },
    {
     "name": "stdout",
     "output_type": "stream",
     "text": [
      "Training MSE: 0.0251\n"
     ]
    },
    {
     "name": "stderr",
     "output_type": "stream",
     "text": [
      "\r",
      "Training Progress:  30%|███████▌                 | 6/20 [06:01<14:04, 60.29s/it]"
     ]
    },
    {
     "name": "stdout",
     "output_type": "stream",
     "text": [
      "Training MSE: 0.0217\n"
     ]
    },
    {
     "name": "stderr",
     "output_type": "stream",
     "text": [
      "\r",
      "Training Progress:  35%|████████▊                | 7/20 [07:02<13:05, 60.44s/it]"
     ]
    },
    {
     "name": "stdout",
     "output_type": "stream",
     "text": [
      "Training MSE: 0.0179\n"
     ]
    },
    {
     "name": "stderr",
     "output_type": "stream",
     "text": [
      "\r",
      "Training Progress:  40%|██████████               | 8/20 [08:03<12:05, 60.44s/it]"
     ]
    },
    {
     "name": "stdout",
     "output_type": "stream",
     "text": [
      "Training MSE: 0.0134\n"
     ]
    },
    {
     "name": "stderr",
     "output_type": "stream",
     "text": [
      "\r",
      "Training Progress:  45%|███████████▎             | 9/20 [09:03<11:03, 60.29s/it]"
     ]
    },
    {
     "name": "stdout",
     "output_type": "stream",
     "text": [
      "Training MSE: 0.0127\n"
     ]
    },
    {
     "name": "stderr",
     "output_type": "stream",
     "text": [
      "\r",
      "Training Progress:  50%|████████████            | 10/20 [10:05<10:09, 60.94s/it]"
     ]
    },
    {
     "name": "stdout",
     "output_type": "stream",
     "text": [
      "Training MSE: 0.0105\n"
     ]
    },
    {
     "name": "stderr",
     "output_type": "stream",
     "text": [
      "\r",
      "Training Progress:  55%|█████████████▏          | 11/20 [11:06<09:09, 61.07s/it]"
     ]
    },
    {
     "name": "stdout",
     "output_type": "stream",
     "text": [
      "Training MSE: 0.0084\n"
     ]
    },
    {
     "name": "stderr",
     "output_type": "stream",
     "text": [
      "\r",
      "Training Progress:  60%|██████████████▍         | 12/20 [12:09<08:13, 61.70s/it]"
     ]
    },
    {
     "name": "stdout",
     "output_type": "stream",
     "text": [
      "Training MSE: 0.0053\n"
     ]
    },
    {
     "name": "stderr",
     "output_type": "stream",
     "text": [
      "\r",
      "Training Progress:  65%|███████████████▌        | 13/20 [13:14<07:17, 62.56s/it]"
     ]
    },
    {
     "name": "stdout",
     "output_type": "stream",
     "text": [
      "Training MSE: 0.0048\n"
     ]
    },
    {
     "name": "stderr",
     "output_type": "stream",
     "text": [
      "\r",
      "Training Progress:  70%|████████████████▊       | 14/20 [14:17<06:16, 62.82s/it]"
     ]
    },
    {
     "name": "stdout",
     "output_type": "stream",
     "text": [
      "Training MSE: 0.0071\n"
     ]
    },
    {
     "name": "stderr",
     "output_type": "stream",
     "text": [
      "\r",
      "Training Progress:  75%|██████████████████      | 15/20 [15:20<05:13, 62.77s/it]"
     ]
    },
    {
     "name": "stdout",
     "output_type": "stream",
     "text": [
      "Training MSE: 0.0040\n"
     ]
    },
    {
     "name": "stderr",
     "output_type": "stream",
     "text": [
      "\r",
      "Training Progress:  80%|███████████████████▏    | 16/20 [16:25<04:13, 63.29s/it]"
     ]
    },
    {
     "name": "stdout",
     "output_type": "stream",
     "text": [
      "Training MSE: 0.0035\n"
     ]
    },
    {
     "name": "stderr",
     "output_type": "stream",
     "text": [
      "\r",
      "Training Progress:  85%|████████████████████▍   | 17/20 [17:29<03:10, 63.52s/it]"
     ]
    },
    {
     "name": "stdout",
     "output_type": "stream",
     "text": [
      "Training MSE: 0.0068\n"
     ]
    },
    {
     "name": "stderr",
     "output_type": "stream",
     "text": [
      "\r",
      "Training Progress:  90%|█████████████████████▌  | 18/20 [18:33<02:07, 63.87s/it]"
     ]
    },
    {
     "name": "stdout",
     "output_type": "stream",
     "text": [
      "Training MSE: 0.0040\n"
     ]
    },
    {
     "name": "stderr",
     "output_type": "stream",
     "text": [
      "\r",
      "Training Progress:  95%|██████████████████████▊ | 19/20 [19:38<01:03, 63.97s/it]"
     ]
    },
    {
     "name": "stdout",
     "output_type": "stream",
     "text": [
      "Training MSE: 0.0027\n"
     ]
    },
    {
     "name": "stderr",
     "output_type": "stream",
     "text": [
      "Training Progress: 100%|████████████████████████| 20/20 [20:42<00:00, 62.12s/it]"
     ]
    },
    {
     "name": "stdout",
     "output_type": "stream",
     "text": [
      "Training MSE: 0.0033\n"
     ]
    },
    {
     "name": "stderr",
     "output_type": "stream",
     "text": [
      "\n"
     ]
    }
   ],
   "source": [
    "from tqdm import tqdm\n",
    "device = torch.device(\"cuda\" if torch.cuda.is_available() else \"cpu\")\n",
    "num_epochs = 20\n",
    "# Assuming you have your training data in a PyTorch DataLoader called \"train_loader\"\n",
    "for epoch in tqdm(range(num_epochs), desc=\"Training Progress\"):\n",
    "    # Variables to keep track of accuracy and total samples\n",
    "    total_loss = 0.0\n",
    "    total_samples = 0\n",
    "    \n",
    "    for data in data_loader:\n",
    "        inputs, labels = data  \n",
    "        labels = labels.float()\n",
    "        inputs = inputs.to(device)\n",
    "        labels = labels.to(device)\n",
    "        optimizer.zero_grad()\n",
    "        outputs, encoded_data = model(inputs.float())\n",
    "        \n",
    "        \n",
    "        \n",
    "        labels = labels.view(-1, 1)\n",
    "        loss = criterion(outputs, labels)\n",
    "        loss.backward()\n",
    "        optimizer.step()\n",
    "        \n",
    "        total_loss += loss.item() * inputs.size(0)\n",
    "        \n",
    "        total_samples += inputs.size(0)\n",
    "        \n",
    "    mse = total_loss / total_samples\n",
    "    print(f\"Training MSE: {mse:.4f}\")\n",
    "\n"
   ]
  },
  {
   "cell_type": "markdown",
   "id": "693ca480",
   "metadata": {},
   "source": [
    "### Logistic regressor"
   ]
  },
  {
   "cell_type": "code",
   "execution_count": null,
   "id": "755a3dc1",
   "metadata": {},
   "outputs": [],
   "source": [
    "# the transparent model\n",
    "\n",
    "from sklearn.linear_model import LogisticRegression\n",
    "\n",
    "\n",
    "from sklearn.preprocessing import StandardScaler\n",
    "\n",
    "#add the mbedding here\n",
    "\n",
    "X = feature_array. append(embedding)\n",
    "\n",
    "\n",
    "##get the target values from the classifier\n",
    "target = target_labels\n",
    "\n",
    "\n",
    "scaler = StandardScaler()\n",
    "X_scaled = scaler.fit_transform(X)  # Scale the input features\n",
    "\n",
    "logreg = LogisticRegression(max_iter=1000)\n",
    "\n",
    "\n",
    "\n",
    "# Fit the model to the data\n",
    "logreg.fit(X_scaled, target)\n",
    "\n",
    "# Print the coefficients of the trained model\n",
    "coefficients = logreg.coef_[0]\n",
    "for feature, coefficient in zip(clcc.keys(), coefficients):\n",
    "    print(f\"{feature}: {coefficient}\")"
   ]
  },
  {
   "cell_type": "markdown",
   "id": "84a86779",
   "metadata": {},
   "source": [
    "### visulaization the coefficients of the LR"
   ]
  },
  {
   "cell_type": "code",
   "execution_count": null,
   "id": "748d87e6",
   "metadata": {},
   "outputs": [],
   "source": [
    "#the coefficients of the trained transparent model\n",
    "import numpy as np\n",
    "import matplotlib.pyplot as plt\n",
    "\n",
    "# Assuming you have a trained logistic regression model named `logreg`\n",
    "coefficients = coefficients\n",
    "feature_names = list(clcc.values())  # Assuming `input_data` contains the feature names\n",
    "\n",
    "# Sort the coefficients and feature names in descending order of absolute magnitude\n",
    "sorted_indices = np.argsort(np.abs(coefficients))[::-1]\n",
    "sorted_coefficients = coefficients[sorted_indices]\n",
    "sorted_feature_names = [feature_names[i] for i in sorted_indices]\n",
    "\n",
    "# Create the bar plot\n",
    "plt.figure(figsize=(10, 16))\n",
    "plt.barh(range(len(sorted_coefficients)), sorted_coefficients, align='center')\n",
    "plt.yticks(range(len(sorted_coefficients)), sorted_feature_names)\n",
    "plt.xlabel('Coefficient Value')\n",
    "plt.ylabel('Feature')\n",
    "plt.title('Importance of Coefficients in Logistic Regression Model')\n",
    "plt.show()"
   ]
  },
  {
   "cell_type": "code",
   "execution_count": null,
   "id": "97110bcf",
   "metadata": {},
   "outputs": [],
   "source": [
    "import numpy as np\n",
    "import seaborn as sns\n",
    "import matplotlib.pyplot as plt\n",
    "\n",
    "# Assuming you have a trained logistic regression model named `logreg`\n",
    "\n",
    "  # Assuming `input_data` contains the feature names\n",
    "\n",
    "# Sort the coefficients and feature names in descending order of absolute magnitude\n",
    "sorted_indices = np.argsort(np.abs(coefficients))[::-1]\n",
    "sorted_coefficients = coefficients[sorted_indices]\n",
    "sorted_feature_names = [feature_names[i] for i in sorted_indices]\n",
    "\n",
    "# Separate positive and negative coefficients\n",
    "positive_indices = np.where(sorted_coefficients >= 0)[0]\n",
    "negative_indices = np.where(sorted_coefficients < 0)[0]\n",
    "\n",
    "positive_coefficients = sorted_coefficients[positive_indices]\n",
    "positive_feature_names = [sorted_feature_names[i] for i in positive_indices]\n",
    "\n",
    "negative_coefficients = sorted_coefficients[negative_indices]\n",
    "negative_feature_names = [sorted_feature_names[i] for i in negative_indices]\n",
    "\n",
    "# Create separate plots for positive and negative coefficients using Seaborn\n",
    "plt.figure(figsize=(12, 6))\n",
    "\n",
    "# Positive coefficients plot\n",
    "plt.subplot(1, 2, 1)\n",
    "sns.barplot(x=positive_coefficients, y=positive_feature_names)\n",
    "plt.xlabel('Coefficient Value')\n",
    "plt.ylabel('Feature')\n",
    "plt.title('Positive Coefficients')#\n",
    "\n",
    "# Negative coefficients plot\n",
    "plt.subplot(1, 2, 2)\n",
    "sns.barplot(x=negative_coefficients, y=negative_feature_names)\n",
    "plt.xlabel('Coefficient Value')\n",
    "plt.ylabel('Feature')\n",
    "plt.title('Negative Coefficients')\n",
    "\n",
    "plt.tight_layout()\n",
    "plt.show()\n"
   ]
  },
  {
   "cell_type": "code",
   "execution_count": 14,
   "id": "06cc0c6a",
   "metadata": {},
   "outputs": [
    {
     "data": {
      "text/plain": [
       "2"
      ]
     },
     "execution_count": 14,
     "metadata": {},
     "output_type": "execute_result"
    }
   ],
   "source": [
    "1+1"
   ]
  },
  {
   "cell_type": "code",
   "execution_count": null,
   "id": "e5bfebad",
   "metadata": {},
   "outputs": [],
   "source": []
  }
 ],
 "metadata": {
  "kernelspec": {
   "display_name": "Python 3 (ipykernel)",
   "language": "python",
   "name": "python3"
  },
  "language_info": {
   "codemirror_mode": {
    "name": "ipython",
    "version": 3
   },
   "file_extension": ".py",
   "mimetype": "text/x-python",
   "name": "python",
   "nbconvert_exporter": "python",
   "pygments_lexer": "ipython3",
   "version": "3.9.12"
  }
 },
 "nbformat": 4,
 "nbformat_minor": 5
}
